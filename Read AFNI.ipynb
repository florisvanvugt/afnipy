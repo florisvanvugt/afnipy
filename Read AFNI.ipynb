{
 "cells": [
  {
   "cell_type": "markdown",
   "metadata": {
    "collapsed": true
   },
   "source": [
    "# Trying to read AFNI BRIK & HEAD files in Python."
   ]
  },
  {
   "cell_type": "markdown",
   "metadata": {},
   "source": [
    "Here is a description of the header contents:\n",
    "    https://afni.nimh.nih.gov/pub/dist/doc/program_help/README.attributes.html\n",
    "    \n",
    "Stuff for reading BRIK files, in Matlab there is a tool: https://github.com/PrincetonUniversity/princeton-mvpa-toolbox/blob/master/afni_matlab/BrikLoad.m"
   ]
  },
  {
   "cell_type": "code",
   "execution_count": 87,
   "metadata": {
    "collapsed": true
   },
   "outputs": [],
   "source": [
    "import re\n",
    "import numpy as np"
   ]
  },
  {
   "cell_type": "code",
   "execution_count": 55,
   "metadata": {
    "collapsed": true
   },
   "outputs": [],
   "source": [
    "fname = \"anat_final.jamie+tlrc\""
   ]
  },
  {
   "cell_type": "code",
   "execution_count": 77,
   "metadata": {
    "collapsed": true
   },
   "outputs": [],
   "source": [
    "def read_header(fname):\n",
    "    \"\"\" \n",
    "    Reads AFNI header file. That is, reads the HEAD from a BRIK/HEAD file pair.\n",
    "    \n",
    "    Arguments\n",
    "    fname : the filename to be read (if it doesn't end in .HEAD this will be appended)\n",
    "    \n",
    "    Returns\n",
    "    dict of key-values representing the header contents\n",
    "    \"\"\" \n",
    "    \n",
    "    if fname.endswith('.'):\n",
    "        fname+=\"HEAD\"\n",
    "    if not fname.endswith('.HEAD'):\n",
    "        fname+=\".HEAD\"\n",
    "    \n",
    "    # Read the file contents\n",
    "    headf = open(fname,'r').read()\n",
    "    \n",
    "    # Now parse the contents\n",
    "    remainder = headf[:]\n",
    "\n",
    "    # No, this is not an insult, it's a pattern that matches the beginning of a chunk,\n",
    "    # i.e. type=something, name=something_else, count=a_number\n",
    "    chunkhead = re.compile(r'type\\s*=\\s*(integer|float|string)-attribute\\s*name\\s*=\\s*(\\w+)\\s*count\\s*=\\s*(\\d+)')\n",
    "\n",
    "    header = {}\n",
    "    types = {}\n",
    "\n",
    "    m = re.search(chunkhead,remainder)\n",
    "\n",
    "    type_regexp = {\n",
    "        \"integer\":\"[+-]?[0-9]\",\n",
    "        \"float\":\"[-+]?(\\d+([.,]\\d*)?|[.,]\\d+)([eE][-+]?\\d+)?\" # source: http://stackoverflow.com/questions/4703390/how-to-extract-a-floating-number-from-a-string\n",
    "    }\n",
    "\n",
    "    # While there is another chunk to be found...\n",
    "    while m:\n",
    "\n",
    "        # Parse the type/name/count fields\n",
    "        endpos = m.end()\n",
    "        (tp,name,count) = m.groups()\n",
    "        count = int(count)\n",
    "        header[name]=count\n",
    "        types[name]=tp\n",
    "        #print(m.start(),tp,name,count)\n",
    "\n",
    "        # The rest of the file...\n",
    "        remainder = remainder[endpos:]\n",
    "\n",
    "        # Now read the actual contents\n",
    "        if tp=='integer' or tp==\"float\":\n",
    "            # Set up a regexp that will capture the next \"count\" ints\n",
    "            contents = re.match(r'(\\s*(%s)+){%i}'%(type_regexp[tp],count),remainder)\n",
    "            cast = int if tp==\"integer\" else float\n",
    "            if contents:\n",
    "                values = [ cast(i) for i in contents.group().split() ]\n",
    "                header[name]=values if count>1 else values[0]\n",
    "            else:\n",
    "                raise ValueError(\"Failed to parse contents for %s\"%name)\n",
    "                \n",
    "            remainder = remainder[contents.end():]\n",
    "\n",
    "        elif tp==\"string\":\n",
    "            contents = re.match(r'\\s*\\'(.{%i})~'%(count-1),remainder,re.DOTALL)\n",
    "            if contents:\n",
    "                header[name]=contents.group(1)\n",
    "            else:\n",
    "                raise ValueError(\"Failed to parse contents for %s\"%name)\n",
    "                \n",
    "            remainder = remainder[contents.end():]\n",
    "            \n",
    "        else:\n",
    "            raise ValueError(\"Unknown data type %s for %s\"%(tp,name))\n",
    "\n",
    "            \n",
    "        # Set up for the next iteration of the loop\n",
    "        m = re.search(chunkhead,remainder)\n",
    "        \n",
    "    return header #,types"
   ]
  },
  {
   "cell_type": "code",
   "execution_count": 78,
   "metadata": {
    "collapsed": false
   },
   "outputs": [],
   "source": [
    "header = read_header('anat_final.jamie+tlrc')"
   ]
  },
  {
   "cell_type": "code",
   "execution_count": 79,
   "metadata": {
    "collapsed": false
   },
   "outputs": [
    {
     "data": {
      "text/plain": [
       "{'BRICK_FLOAT_FACS': 0.0,\n",
       " 'BRICK_KEYWORDS': '',\n",
       " 'BRICK_LABS': '#0',\n",
       " 'BRICK_STATS': [0.0, 635.0],\n",
       " 'BRICK_TYPES': 1,\n",
       " 'BYTEORDER_STRING': 'LSB_FIRST',\n",
       " 'DATASET_DIMENSIONS': [161, 191, 151, 0, 0],\n",
       " 'DATASET_NAME': 'zyxt',\n",
       " 'DATASET_RANK': [3, 1, 0, 0, 0, 0, 0, 0],\n",
       " 'DELTA': [1.0, 1.0, 1.0],\n",
       " 'HISTORY_NOTE': \"[floris@colossus: Fri Feb  3 15:53:51 2017] ===================================\\\\n[floris@colossus: Fri Feb  3 15:53:51 2017] === History of inputs to 3dcalc ===\\\\n[floris@colossus: Fri Feb  3 15:53:51 2017] === Input a:\\\\n[floris@colossus: Fri Feb  3 15:53:51 2017] [floris@colossus: Fri Feb  3 15:53:21 2017] ===================================\\\\n[floris@colossus: Fri Feb  3 15:53:21 2017] === History of inputs to 3dcalc ===\\\\n[floris@colossus: Fri Feb  3 15:53:21 2017] === Input a:\\\\n[floris@colossus: Fri Feb  3 15:53:21 2017] [floris@colossus: Fri Feb  3 15:52:41 2017] 3dSkullStrip -orig_vol -input ./__tt_o20170126_092539MPRAGEADNIiPAT2s100a1001+orig -prefix ./__tt_o20170126_092539MPRAGEADNIiPAT2s100a1001_ns\\\\n[floris@colossus: Fri Feb  3 15:53:18 2017] 3dcopy ./__tt_o20170126_092539MPRAGEADNIiPAT2s100a1001_ns+orig o20170126_092539MPRAGEADNIiPAT2s100a1001_ns\\\\n[floris@colossus: Fri Feb  3 15:53:20 2017] 3dresample -rmode Cu -master __ats_tmp__ref_TT_N27_40pad+tlrc -inset o20170126_092539MPRAGEADNIiPAT2s100a1001_ns+orig -prefix ./__ats_tmp__resamp_edge_art\\\\n[floris@colossus: Fri Feb  3 15:53:21 2017] === Input b:\\\\n[floris@colossus: Fri Feb  3 15:53:21 2017] [floris@colossus: Fri Feb  3 15:52:41 2017] 3dSkullStrip -orig_vol -input ./__tt_o20170126_092539MPRAGEADNIiPAT2s100a1001+orig -prefix ./__tt_o20170126_092539MPRAGEADNIiPAT2s100a1001_ns\\\\n[floris@colossus: Fri Feb  3 15:53:18 2017] 3dcopy ./__tt_o20170126_092539MPRAGEADNIiPAT2s100a1001_ns+orig o20170126_092539MPRAGEADNIiPAT2s100a1001_ns\\\\n[floris@colossus: Fri Feb  3 15:53:20 2017] 3dcalc -a o20170126_092539MPRAGEADNIiPAT2s100a1001_ns+orig -expr 'step(a)*10000' -prefix ./__ats_tmp__resamp_step\\\\n[floris@colossus: Fri Feb  3 15:53:21 2017] 3dresample -rmode Linear -master __ats_tmp__ref_TT_N27_40pad+tlrc -inset __ats_tmp__resamp_step+orig -prefix ./__ats_tmp__resamp_NN\\\\n[floris@colossus: Fri Feb  3 15:53:21 2017] ===================================\\\\n[floris@colossus: Fri Feb  3 15:53:21 2017] 3dcalc -a __ats_tmp__resamp_edge_art+tlrc. -b __ats_tmp__resamp_NN+tlrc. -expr 'a*step(b-5000)' -prefix ./__ats_tmp__resamp\\\\n[floris@colossus: Fri Feb  3 15:53:22 2017] 3dcalc -a __ats_tmp__resamp+tlrc -expr 'a*step(a--0.000100)*step(731.000100-a) + 0*step(0-a) + 731*step(a-731)' -prefix __ats_tmp___rs_o20170126_092539MPRAGEADNIiPAT2s100a1001_ns\\\\n[floris@colossus: Fri Feb  3 15:53:24 2017] 3drefit -view +orig __ats_tmp___rs_o20170126_092539MPRAGEADNIiPAT2s100a1001_ns+tlrc.HEAD\\\\n[floris@colossus: Fri Feb  3 15:53:49 2017] 3dcalc -a __ats_tmp___rs_o20170126_092539MPRAGEADNIiPAT2s100a1001_ns+orig -expr 'step(a)*10000' -prefix ./__ats_tmp__reg_braintlrcstep\\\\n[floris@colossus: Fri Feb  3 15:53:50 2017] 3dWarp -matparent __ats_tmp__reg_warpdriveout+orig -gridset __ats_tmp___pad40_o20170126_092539MPRAGEADNIiPAT2s100a1001_ns+orig -linear -prefix ./__ats_tmp__reg_braintlrcmask __ats_tmp__reg_braintlrcstep+orig\\\\n[floris@colossus: Fri Feb  3 15:53:51 2017] === Input b:\\\\n[floris@colossus: Fri Feb  3 15:53:51 2017] [floris@colossus: Fri Feb  3 15:52:41 2017] 3dSkullStrip -orig_vol -input ./__tt_o20170126_092539MPRAGEADNIiPAT2s100a1001+orig -prefix ./__tt_o20170126_092539MPRAGEADNIiPAT2s100a1001_ns\\\\n[floris@colossus: Fri Feb  3 15:53:18 2017] 3dcopy ./__tt_o20170126_092539MPRAGEADNIiPAT2s100a1001_ns+orig o20170126_092539MPRAGEADNIiPAT2s100a1001_ns\\\\n[floris@colossus: Fri Feb  3 15:53:48 2017] 3dWarp -matvec_out2in o20170126_092539MPRAGEADNIiPAT2s100a1001_ns.Xat.1D -linear -prefix ./__ats_tmp___pad40_o20170126_092539MPRAGEADNIiPAT2s100a1001_ns -gridset __ats_tmp__gridout+orig o20170126_092539MPRAGEADNIiPAT2s100a1001_ns+orig\\\\n[floris@colossus: Fri Feb  3 15:53:51 2017] ===================================\\\\n[floris@colossus: Fri Feb  3 15:53:51 2017] 3dcalc -a __ats_tmp__reg_braintlrcmask+orig -b __ats_tmp___pad40_o20170126_092539MPRAGEADNIiPAT2s100a1001_ns.skl+orig -expr 'step(a-5000)*b' -prefix ./__ats_tmp___pad40_o20170126_092539MPRAGEADNIiPAT2s100a1001_ns+orig\\\\n[floris@colossus: Fri Feb  3 15:53:52 2017] 3drefit -atrcopy __ats_tmp___pad40_o20170126_092539MPRAGEADNIiPAT2s100a1001_ns.skl+orig WARPDRIVE_MATVEC_FOR_000000 __ats_tmp___pad40_o20170126_092539MPRAGEADNIiPAT2s100a1001_ns+orig\\\\n[floris@colossus: Fri Feb  3 15:53:52 2017] 3drefit -atrcopy __ats_tmp___pad40_o20170126_092539MPRAGEADNIiPAT2s100a1001_ns.skl+orig WARPDRIVE_MATVEC_FOR_000000 __ats_tmp___pad40_o20170126_092539MPRAGEADNIiPAT2s100a1001_ns+orig\\\\n[floris@colossus: Fri Feb  3 15:53:52 2017] 3drefit -atrcopy __ats_tmp___pad40_o20170126_092539MPRAGEADNIiPAT2s100a1001_ns.skl+orig WARPDRIVE_MATVEC_INV_000000 __ats_tmp___pad40_o20170126_092539MPRAGEADNIiPAT2s100a1001_ns+orig\\\\n[floris@colossus: Fri Feb  3 15:53:52 2017] 3dZeropad -I -40 -S -40 -A -40 -P -40 -L -40 -R -40 -mm -prefix ./__ats_tmp___upad40_o20170126_092539MPRAGEADNIiPAT2s100a1001_ns __ats_tmp___pad40_o20170126_092539MPRAGEADNIiPAT2s100a1001_ns+orig\\\\n[floris@colossus: Fri Feb  3 15:53:52 2017] 3drefit -atrcopy __ats_tmp___pad40_o20170126_092539MPRAGEADNIiPAT2s100a1001_ns+orig WARPDRIVE_MATVEC_FOR_000000 __ats_tmp___upad40_o20170126_092539MPRAGEADNIiPAT2s100a1001_ns+orig\\\\n[floris@colossus: Fri Feb  3 15:53:52 2017] 3drefit -atrcopy __ats_tmp___pad40_o20170126_092539MPRAGEADNIiPAT2s100a1001_ns+orig WARPDRIVE_MATVEC_FOR_000000 __ats_tmp___upad40_o20170126_092539MPRAGEADNIiPAT2s100a1001_ns+orig\\\\n[floris@colossus: Fri Feb  3 15:53:52 2017] 3drefit -atrcopy __ats_tmp___pad40_o20170126_092539MPRAGEADNIiPAT2s100a1001_ns+orig WARPDRIVE_MATVEC_INV_000000 __ats_tmp___upad40_o20170126_092539MPRAGEADNIiPAT2s100a1001_ns+orig\\\\n[floris@colossus: Fri Feb  3 15:53:52 2017] 3drefit -space TT_N27 __ats_tmp___upad40_o20170126_092539MPRAGEADNIiPAT2s100a1001_ns+orig\\\\n[floris@colossus: Fri Feb  3 15:53:52 2017] Dataset created via: @auto_tlrc -base TT_N27+tlrc -input o20170126_092539MPRAGEADNIiPAT2s100a1001_ns+orig -no_ss\\\\n[floris@colossus: Fri Feb  3 15:53:52 2017] 3drefit -view +tlrc __ats_tmp___upad40_o20170126_092539MPRAGEADNIiPAT2s100a1001_ns+orig.HEAD\\\\n[floris@colossus: Fri Feb  3 15:53:52 2017] 3drefit -wset o20170126_092539MPRAGEADNIiPAT2s100a1001_ns+orig __ats_tmp___upad40_o20170126_092539MPRAGEADNIiPAT2s100a1001_ns+tlrc\\\\n[floris@colossus: Fri Feb  3 16:16:30 2017] 3dcopy o20170126_092539MPRAGEADNIiPAT2s100a1001_ns+tlrc anat_final.jamie\",\n",
       " 'IDCODE_DATE': 'Fri Feb  3 16:16:30 2017',\n",
       " 'IDCODE_STRING': 'AFN_R4Bs8rdD8AtTMrnoKh5Mzg',\n",
       " 'IDCODE_WARP_PARENT': 'AFN_jy-3vC95NRcvM9EQtguyJg',\n",
       " 'IJK_TO_DICOM': [1.0,\n",
       "  0.0,\n",
       "  0.0,\n",
       "  -80.0,\n",
       "  0.0,\n",
       "  1.0,\n",
       "  0.0,\n",
       "  -80.0,\n",
       "  0.0,\n",
       "  0.0,\n",
       "  1.0,\n",
       "  -65.0],\n",
       " 'IJK_TO_DICOM_REAL': [1.0,\n",
       "  0.0,\n",
       "  0.0,\n",
       "  -80.0,\n",
       "  0.0,\n",
       "  1.0,\n",
       "  0.0,\n",
       "  -80.0,\n",
       "  0.0,\n",
       "  0.0,\n",
       "  1.0,\n",
       "  -65.0],\n",
       " 'INT_CMAP': 0,\n",
       " 'LABEL_1': 'zyxt',\n",
       " 'LABEL_2': 'zyxt',\n",
       " 'NOTES_COUNT': 1,\n",
       " 'NOTE_DATE_001': 'Fri Feb  3 15:53:52 2017',\n",
       " 'NOTE_NUMBER_001': 'Dataset created via: @auto_tlrc -base TT_N27+tlrc -input o20170126_092539MPRAGEADNIiPAT2s100a1001_ns+orig -no_ss',\n",
       " 'ORIENT_SPECIFIC': [0, 3, 4],\n",
       " 'ORIGIN': [-80.0, -80.0, -65.0],\n",
       " 'SCENE_DATA': [2, 2, 0, -999, -999, -999, -999, -999],\n",
       " 'TEMPLATE_SPACE': 'TT_N27',\n",
       " 'TYPESTRING': '3DIM_HEAD_ANAT',\n",
       " 'WARPDRIVE_MATVEC_FOR_000000': [1.04247,\n",
       "  -0.0243811,\n",
       "  0.00100083,\n",
       "  2.23419,\n",
       "  0.035234,\n",
       "  1.05951,\n",
       "  0.110977,\n",
       "  -29.5094,\n",
       "  -0.0318703,\n",
       "  -0.0941107,\n",
       "  1.03383,\n",
       "  16.1024],\n",
       " 'WARPDRIVE_MATVEC_INV_000000': [0.9584249,\n",
       "  0.02176502,\n",
       "  -0.003264209,\n",
       "  -1.446469,\n",
       "  -0.03463688,\n",
       "  0.9341317,\n",
       "  -0.1002413,\n",
       "  29.25718,\n",
       "  0.02639272,\n",
       "  0.085706,\n",
       "  0.9580513,\n",
       "  -12.95676],\n",
       " 'WARP_DATA': [0.9584249,\n",
       "  0.02176502,\n",
       "  -0.003264209,\n",
       "  -0.03463688,\n",
       "  0.9341317,\n",
       "  -0.1002413,\n",
       "  0.02639272,\n",
       "  0.085706,\n",
       "  0.9580513,\n",
       "  1.04247,\n",
       "  -0.0243811,\n",
       "  0.00100083,\n",
       "  0.03523399,\n",
       "  1.05951,\n",
       "  0.110977,\n",
       "  -0.0318703,\n",
       "  -0.09411069,\n",
       "  1.03383,\n",
       "  1.446469,\n",
       "  -29.25718,\n",
       "  12.95676,\n",
       "  -2.23419,\n",
       "  29.5094,\n",
       "  -16.1024,\n",
       "  -160.0,\n",
       "  -160.0,\n",
       "  -130.0,\n",
       "  160.0,\n",
       "  220.0,\n",
       "  170.0],\n",
       " 'WARP_TYPE': [0, 0, -999, -999, -999, -999, -999, -999]}"
      ]
     },
     "execution_count": 79,
     "metadata": {},
     "output_type": "execute_result"
    }
   ],
   "source": [
    "header"
   ]
  },
  {
   "cell_type": "code",
   "execution_count": 121,
   "metadata": {
    "collapsed": false
   },
   "outputs": [],
   "source": [
    "def read_brik(fname,header):\n",
    "    \"\"\" Reads BRIK file. Presupposes that we have parsed the .HEAD file and \n",
    "    supplied at least the relevant portion of it.\n",
    "    \n",
    "    Arguments\n",
    "    fname : the filename to be read (.BRIK will be added if necessary)\n",
    "    header : the header information, a set of key-values\n",
    "    \n",
    "    Returns\n",
    "    array containing the data\n",
    "    \"\"\"\n",
    "    \n",
    "    if fname.endswith('.'):\n",
    "        fname+=\"BRIK\"\n",
    "    if not fname.endswith('.BRIK'):\n",
    "        fname+=\".BRIK\"\n",
    "        \n",
    "    nslices=header[\"DATASET_DIMENSIONS\"][2]\n",
    "    nframes=header[\"DATASET_RANK\"][1]\n",
    "    numpix=header[\"DATASET_DIMENSIONS\"][0]*header[\"DATASET_DIMENSIONS\"][1]\n",
    "    \n",
    "    n = numpix*nslices*nframes #(Info.DATASET_DIMENSIONS(1) .* Info.DATASET_DIMENSIONS(2) .* Info.DATASET_DIMENSIONS(3) .* Info.DATASET_RANK(2)\n",
    "    \n",
    "    # TODO: Use byte order in there\n",
    "    # TODO:\n",
    "    \n",
    "    V = np.fromfile(fname, dtype='d',count=n)\n",
    "    #V = fread(fidBRIK, n) , [Opt.OutPrecision,typestr]);\n",
    "    V = np.reshape(V, (header[\"DATASET_DIMENSIONS\"][0], \n",
    "                       header[\"DATASET_DIMENSIONS\"][1],\n",
    "                       nslices,\n",
    "                       nframes\n",
    "                       ))\n",
    "    \n",
    "    return V"
   ]
  },
  {
   "cell_type": "code",
   "execution_count": 122,
   "metadata": {
    "collapsed": false,
    "scrolled": true
   },
   "outputs": [
    {
     "data": {
      "text/plain": [
       "([161, 191, 151, 0, 0], [3, 1, 0, 0, 0, 0, 0, 0], 0.0)"
      ]
     },
     "execution_count": 122,
     "metadata": {},
     "output_type": "execute_result"
    }
   ],
   "source": [
    "header[\"DATASET_DIMENSIONS\"],header[\"DATASET_RANK\"],header[\"BRICK_FLOAT_FACS\"]"
   ]
  },
  {
   "cell_type": "code",
   "execution_count": 123,
   "metadata": {
    "collapsed": false
   },
   "outputs": [
    {
     "ename": "ValueError",
     "evalue": "total size of new array must be unchanged",
     "output_type": "error",
     "traceback": [
      "\u001b[0;31m---------------------------------------------------------------------------\u001b[0m",
      "\u001b[0;31mValueError\u001b[0m                                Traceback (most recent call last)",
      "\u001b[0;32m<ipython-input-123-86471c9f077e>\u001b[0m in \u001b[0;36m<module>\u001b[0;34m()\u001b[0m\n\u001b[0;32m----> 1\u001b[0;31m \u001b[0mread_brik\u001b[0m\u001b[0;34m(\u001b[0m\u001b[0mfname\u001b[0m\u001b[0;34m,\u001b[0m\u001b[0mheader\u001b[0m\u001b[0;34m)\u001b[0m\u001b[0;34m\u001b[0m\u001b[0m\n\u001b[0m",
      "\u001b[0;32m<ipython-input-121-65df5d63fc69>\u001b[0m in \u001b[0;36mread_brik\u001b[0;34m(fname, header)\u001b[0m\n\u001b[1;32m     30\u001b[0m                        \u001b[0mheader\u001b[0m\u001b[0;34m[\u001b[0m\u001b[0;34m\"DATASET_DIMENSIONS\"\u001b[0m\u001b[0;34m]\u001b[0m\u001b[0;34m[\u001b[0m\u001b[0;36m1\u001b[0m\u001b[0;34m]\u001b[0m\u001b[0;34m,\u001b[0m\u001b[0;34m\u001b[0m\u001b[0m\n\u001b[1;32m     31\u001b[0m                        \u001b[0mnslices\u001b[0m\u001b[0;34m,\u001b[0m\u001b[0;34m\u001b[0m\u001b[0m\n\u001b[0;32m---> 32\u001b[0;31m                        \u001b[0mnframes\u001b[0m\u001b[0;34m\u001b[0m\u001b[0m\n\u001b[0m\u001b[1;32m     33\u001b[0m                        ))\n\u001b[1;32m     34\u001b[0m \u001b[0;34m\u001b[0m\u001b[0m\n",
      "\u001b[0;32m/usr/local/lib/python3.5/dist-packages/numpy/core/fromnumeric.py\u001b[0m in \u001b[0;36mreshape\u001b[0;34m(a, newshape, order)\u001b[0m\n\u001b[1;32m    223\u001b[0m     \u001b[0;32mexcept\u001b[0m \u001b[0mAttributeError\u001b[0m\u001b[0;34m:\u001b[0m\u001b[0;34m\u001b[0m\u001b[0m\n\u001b[1;32m    224\u001b[0m         \u001b[0;32mreturn\u001b[0m \u001b[0m_wrapit\u001b[0m\u001b[0;34m(\u001b[0m\u001b[0ma\u001b[0m\u001b[0;34m,\u001b[0m \u001b[0;34m'reshape'\u001b[0m\u001b[0;34m,\u001b[0m \u001b[0mnewshape\u001b[0m\u001b[0;34m,\u001b[0m \u001b[0morder\u001b[0m\u001b[0;34m=\u001b[0m\u001b[0morder\u001b[0m\u001b[0;34m)\u001b[0m\u001b[0;34m\u001b[0m\u001b[0m\n\u001b[0;32m--> 225\u001b[0;31m     \u001b[0;32mreturn\u001b[0m \u001b[0mreshape\u001b[0m\u001b[0;34m(\u001b[0m\u001b[0mnewshape\u001b[0m\u001b[0;34m,\u001b[0m \u001b[0morder\u001b[0m\u001b[0;34m=\u001b[0m\u001b[0morder\u001b[0m\u001b[0;34m)\u001b[0m\u001b[0;34m\u001b[0m\u001b[0m\n\u001b[0m\u001b[1;32m    226\u001b[0m \u001b[0;34m\u001b[0m\u001b[0m\n\u001b[1;32m    227\u001b[0m \u001b[0;34m\u001b[0m\u001b[0m\n",
      "\u001b[0;31mValueError\u001b[0m: total size of new array must be unchanged"
     ]
    }
   ],
   "source": [
    "read_brik(fname,header)"
   ]
  },
  {
   "cell_type": "code",
   "execution_count": 124,
   "metadata": {
    "collapsed": true
   },
   "outputs": [],
   "source": [
    "    nslices=header[\"DATASET_DIMENSIONS\"][2]\n",
    "    nframes=header[\"DATASET_RANK\"][1]\n",
    "    numpix=header[\"DATASET_DIMENSIONS\"][0]*header[\"DATASET_DIMENSIONS\"][1]\n",
    "    \n"
   ]
  },
  {
   "cell_type": "code",
   "execution_count": 125,
   "metadata": {
    "collapsed": true
   },
   "outputs": [],
   "source": [
    " n = numpix*nslices*nframes"
   ]
  },
  {
   "cell_type": "code",
   "execution_count": 126,
   "metadata": {
    "collapsed": false
   },
   "outputs": [
    {
     "data": {
      "text/plain": [
       "(151, 1, 30751)"
      ]
     },
     "execution_count": 126,
     "metadata": {},
     "output_type": "execute_result"
    }
   ],
   "source": [
    "nslices,nframes,numpix"
   ]
  },
  {
   "cell_type": "code",
   "execution_count": 127,
   "metadata": {
    "collapsed": false
   },
   "outputs": [],
   "source": [
    " V = np.fromfile(fname+\".BRIK\", dtype='<f4',count=n)"
   ]
  },
  {
   "cell_type": "code",
   "execution_count": 119,
   "metadata": {
    "collapsed": false
   },
   "outputs": [
    {
     "data": {
      "text/plain": [
       "(2321700,)"
      ]
     },
     "execution_count": 119,
     "metadata": {},
     "output_type": "execute_result"
    }
   ],
   "source": [
    "V.shape"
   ]
  },
  {
   "cell_type": "code",
   "execution_count": 120,
   "metadata": {
    "collapsed": false
   },
   "outputs": [
    {
     "data": {
      "text/plain": [
       "4643401"
      ]
     },
     "execution_count": 120,
     "metadata": {},
     "output_type": "execute_result"
    }
   ],
   "source": [
    "n"
   ]
  }
 ],
 "metadata": {
  "kernelspec": {
   "display_name": "Python 3",
   "language": "python",
   "name": "python3"
  },
  "language_info": {
   "codemirror_mode": {
    "name": "ipython",
    "version": 3
   },
   "file_extension": ".py",
   "mimetype": "text/x-python",
   "name": "python",
   "nbconvert_exporter": "python",
   "pygments_lexer": "ipython3",
   "version": "3.5.2"
  }
 },
 "nbformat": 4,
 "nbformat_minor": 1
}
